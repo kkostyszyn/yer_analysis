{
 "cells": [
  {
   "cell_type": "code",
   "execution_count": null,
   "metadata": {},
   "outputs": [],
   "source": [
    "\"\"\"\n",
    "First, create a script that has the shape of the paradigm as a class - logging morpho info, phono info, number of syllables before yer, etc.\n",
    "\"\"\"\n",
    "import re\n",
    "import paradigm "
   ]
  },
  {
   "cell_type": "code",
   "execution_count": null,
   "metadata": {},
   "outputs": [],
   "source": [
    "def main(f):\n",
    "    \"\"\"\n",
    "    First, open Polish morphological data compiled by Unimorph. \n",
    "    \n",
    "    Then, for all inflected forms, compare to the lemma to find inserted/deleted vowels - sign of yer. \n",
    "    \n",
    "    See if there is a way to generalize across resulting patterns.\n",
    "    \"\"\"\n",
    "    f = open(f)\n",
    "    f = f.readlines()\n",
    "    \n",
    "    for x in f:\n",
    "        temp = re.split(\"\\s\", x)\n",
    "        if not cur:\n",
    "            if lst:\n",
    "                paradigm(lst)\n",
    "                pass \n",
    "            cur = temp[0]\n",
    "            lst = []\n",
    "        lst.append(temp[1])\n",
    "    #[0] = lemma\n",
    "    #[1] = inflected form \n",
    "    return True"
   ]
  }
 ],
 "metadata": {
  "kernelspec": {
   "display_name": "Python 3",
   "language": "python",
   "name": "python3"
  },
  "language_info": {
   "codemirror_mode": {
    "name": "ipython",
    "version": 3
   },
   "file_extension": ".py",
   "mimetype": "text/x-python",
   "name": "python",
   "nbconvert_exporter": "python",
   "pygments_lexer": "ipython3",
   "version": "3.7.0"
  }
 },
 "nbformat": 4,
 "nbformat_minor": 2
}
